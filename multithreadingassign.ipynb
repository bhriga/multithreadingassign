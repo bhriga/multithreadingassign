{
 "cells": [
  {
   "cell_type": "code",
   "execution_count": 42,
   "id": "7d31b457-b3c1-4715-a4b5-ddd164104031",
   "metadata": {},
   "outputs": [
    {
     "ename": "SyntaxError",
     "evalue": "invalid syntax (2315365953.py, line 1)",
     "output_type": "error",
     "traceback": [
      "\u001b[1;36m  Cell \u001b[1;32mIn[42], line 1\u001b[1;36m\u001b[0m\n\u001b[1;33m    Q1.what is multithreading in python? why is it used? Name the module used to handle threads in python\u001b[0m\n\u001b[1;37m                                       ^\u001b[0m\n\u001b[1;31mSyntaxError\u001b[0m\u001b[1;31m:\u001b[0m invalid syntax\n"
     ]
    }
   ],
   "source": [
    "Q1.what is multithreading in python? why is it used? Name the module used to handle threads in python\n",
    "\n",
    "answer:\n",
    "Multithreading is defined as the ability of a processor to execute multiple threads concurrently. In a simple, single-core CPU, \n",
    "it is achieved using frequent switching between threads. This is termed context switching. In context switching,\n",
    "the state of a thread is saved and the state of another thread is loaded whenever any interrupt (due to I/O or manually set) takes place.\n",
    "Context switching takes place so frequently that all the threads appear to be running parallelly\n",
    "\n",
    "Python multithreading enables efficient utilization of the resources as the threads share the data space and memory.\n",
    "Multithreading in Python allows the concurrent and parallel occurrence of various tasks. It causes a reduction in time consumption or response time,\n",
    "thereby increasing the performance.\n",
    "\n",
    "Threading Modules. The threading module is a high-level implementation of multithreading used to deploy an application in Python.\n",
    "To use multithreading, we need to import the threading module in Python Program.\n"
   ]
  },
  {
   "cell_type": "code",
   "execution_count": null,
   "id": "77401723-2ca8-4747-8c1e-d24ed82de000",
   "metadata": {},
   "outputs": [],
   "source": [
    "Q2.why threading module used? rite the use of the following functions\n",
    "( activeCount\n",
    " currentThread\n",
    " enumerate)\n",
    "\n",
    "answer:\n",
    "The threading module allows multiple threads of execution to take place in a Python program. While threads may appear to run simultaneously, \n",
    "only one thread can be executed at a time. This is enforced by Python's global interpreter lock.\n",
    "Threading is helpful when working with tasks that are I/O bound.\n",
    "\n",
    "threading.activeCount() − This returns the number of active thread objects.\n",
    "threading.currentThread() − This returns the number of objects that are under the thread control of the caller.\n",
    "threading.enumerate() −This returns the list of all thread objects that are presently active\n"
   ]
  },
  {
   "cell_type": "code",
   "execution_count": null,
   "id": "7648649c-4344-4e4e-a82c-dec1bbf3a428",
   "metadata": {},
   "outputs": [],
   "source": [
    "Q3. Explain the following functions\n",
    "( 1.run\n",
    " 2.start\n",
    " 3.join\n",
    "4.isAlive)\n",
    "\n",
    "answer:\n",
    "\n",
    "run()  − The run() method is the entry point for a thread.\n",
    "start()  − The start() method starts a thread by calling the run method.\n",
    "join([time])  − The join() waits for threads to terminate.\n",
    "isAlive()  − The isAlive() method checks whether a thread is still executing.\n",
    "getName()  − The getName() method returns the name of a thread.\n",
    "setName()  − The setName() method sets the name of a thread.\n"
   ]
  },
  {
   "cell_type": "code",
   "execution_count": null,
   "id": "b188d756-98ed-4d53-9444-7873d0c35257",
   "metadata": {},
   "outputs": [],
   "source": [
    "4. write a python program to create two threads. Thread one must print the list of squares and thread\n",
    "two must print the list of cubes"
   ]
  },
  {
   "cell_type": "code",
   "execution_count": 47,
   "id": "c6a540b3-2cc1-4e07-93c8-098d3a0667b0",
   "metadata": {},
   "outputs": [
    {
     "name": "stdout",
     "output_type": "stream",
     "text": [
      "Squares: [1, 4, 9, 16, 25]\n",
      "Cubes: [1, 8, 27, 64, 125]\n"
     ]
    }
   ],
   "source": [
    "import threading\n",
    "\n",
    "def print_squares(numbers):\n",
    "    squares = [num ** 2 for num in numbers]\n",
    "    print(\"Squares:\", squares)\n",
    "\n",
    "def print_cubes(numbers):\n",
    "    cubes = [num ** 3 for num in numbers]\n",
    "    print(\"Cubes:\", cubes)\n",
    "\n",
    "def main():\n",
    "    numbers = list(range(1,6))\n",
    "    \n",
    "    # Creating threads\n",
    "    thread1 = threading.Thread(target=print_squares, args=(numbers,))\n",
    "    thread2 = threading.Thread(target=print_cubes, args=(numbers,))\n",
    "\n",
    "    # Starting threads\n",
    "    thread1.start()\n",
    "    thread2.start()\n",
    "\n",
    "    # Waiting for threads to finish\n",
    "    thread1.join()\n",
    "    thread2.join()\n",
    "\n",
    "if __name__ == \"__main__\":\n",
    "    main()\n"
   ]
  },
  {
   "cell_type": "code",
   "execution_count": null,
   "id": "17861bcd-e5d0-48f6-b0ba-40dd00de915b",
   "metadata": {},
   "outputs": [],
   "source": [
    "5. State advantages and disadvantages of multithreading\n",
    "\n",
    "Multithreading is a programming technique that allows multiple threads of execution to run concurrently within a single process.\n",
    "While multithreading offers several advantages, it also has some disadvantages. Let's explore both:\n",
    "\n",
    "Advantages of Multithreading:\n",
    "Concurrency: Multithreading allows different parts of a program to execute concurrently, which can lead to improved performance and responsiveness,\n",
    "especially in applications that perform I/O-bound or CPU-bound tasks.\n",
    "\n",
    "Resource Sharing: Threads within the same process share the same memory space, which makes it easy to share data and resources between threads\n",
    "without the need for complex inter-process communication mechanisms.\n",
    "\n",
    "Responsiveness: Multithreading can enhance the responsiveness of user interfaces by allowing background tasks to execute without blocking\n",
    "the main thread, ensuring that the application remains interactive.\n",
    "\n",
    "Simplified Design: Multithreading can simplify the design of certain types of applications by allowing you to decompose complex tasks into smaller,\n",
    "independently executing threads, which can lead to cleaner and more modular code.\n",
    "\n",
    "Parallelism: In systems with multiple CPUs or CPU cores, multithreading can enable parallelism, allowing multiple threads to execute simultaneously\n",
    "and take advantage of the available hardware resources.\n",
    "\n",
    "Disadvantages of Multithreading:\n",
    "Complexity: Multithreading introduces complexity, as developers need to carefully manage thread synchronization, communication, and coordination\n",
    "to avoid race conditions, deadlocks, and other concurrency-related issues.\n",
    "\n",
    "Resource Overhead: Creating and managing threads incurs overhead in terms of memory and CPU resources. In applications with a large number of threads,\n",
    "this overhead can become significant and impact performance.\n",
    "\n",
    "Concurrency Bugs: Multithreaded programs are prone to concurrency bugs, such as race conditions and deadlock, which can be difficult to debug and \n",
    "reproduce. Ensuring thread safety and proper synchronization requires careful design and testing.\n",
    "\n",
    "Platform Dependence: Multithreading behavior may vary across different platforms and operating systems, leading to non-portable code.\n",
    "Platform-specific threading APIs and features may also limit the portability of multithreaded applications.\n",
    "\n",
    "Performance Bottlenecks: Poorly designed multithreaded applications may suffer from performance bottlenecks, such as contention for\n",
    "shared resources or excessive context switching, which can degrade overall performance.\n",
    "\n",
    "Debugging Complexity: Debugging multithreaded programs can be challenging due to the non-deterministic nature of concurrency bugs and the\n",
    "difficulty of reproducing them consistently"
   ]
  },
  {
   "cell_type": "code",
   "execution_count": null,
   "id": "6f9f36f2-42f9-4b0e-8bc0-27edfcf258f6",
   "metadata": {},
   "outputs": [],
   "source": [
    "6. Explain deadlocks and race conditions.\n",
    "\n",
    "answer:\n",
    "A deadlock occurs in a multithreaded environment when two or more threads are blocked indefinitely, waiting for each other to release resources\n",
    "that they need. This situation typically arises when multiple threads acquire locks on resources in a non-sequential order and then wait\n",
    "for each other to release the resources they hold."
   ]
  },
  {
   "cell_type": "code",
   "execution_count": 48,
   "id": "3f627f22-3618-4284-825a-1d1b57df79cf",
   "metadata": {},
   "outputs": [
    {
     "name": "stdout",
     "output_type": "stream",
     "text": [
      "Function 1\n",
      "Function 2\n"
     ]
    }
   ],
   "source": [
    "import threading\n",
    "\n",
    "lock1 = threading.Lock()\n",
    "lock2 = threading.Lock()\n",
    "\n",
    "def function1():\n",
    "    lock1.acquire()\n",
    "    lock2.acquire()\n",
    "    print(\"Function 1\")\n",
    "\n",
    "    # Do something\n",
    "\n",
    "    lock2.release()\n",
    "    lock1.release()\n",
    "\n",
    "def function2():\n",
    "    lock2.acquire()\n",
    "    lock1.acquire()\n",
    "    print(\"Function 2\")\n",
    "\n",
    "    # Do something\n",
    "\n",
    "    lock1.release()\n",
    "    lock2.release()\n",
    "\n",
    "thread1 = threading.Thread(target=function1)\n",
    "thread2 = threading.Thread(target=function2)\n",
    "\n",
    "thread1.start()\n",
    "thread2.start()\n",
    "\n",
    "thread1.join()\n",
    "thread2.join()\n"
   ]
  },
  {
   "cell_type": "code",
   "execution_count": null,
   "id": "aef81b2a-8185-4b37-b6d5-8c14eb3d34da",
   "metadata": {},
   "outputs": [],
   "source": [
    "A race condition occurs when the outcome of a program depends on the relative timing of operations performed by multiple threads. \n",
    "It happens when multiple threads access shared resources concurrently, and the outcome depends on the order in which the threads are scheduled."
   ]
  },
  {
   "cell_type": "code",
   "execution_count": 49,
   "id": "ad5f9f63-41fd-405b-95ab-d248eb4d07c6",
   "metadata": {},
   "outputs": [
    {
     "name": "stdout",
     "output_type": "stream",
     "text": [
      "Counter value: 0\n"
     ]
    }
   ],
   "source": [
    "import threading\n",
    "\n",
    "counter = 0\n",
    "\n",
    "def increment():\n",
    "    global counter\n",
    "    for _ in range(1000000):\n",
    "        counter += 1\n",
    "\n",
    "def decrement():\n",
    "    global counter\n",
    "    for _ in range(1000000):\n",
    "        counter -= 1\n",
    "\n",
    "thread1 = threading.Thread(target=increment)\n",
    "thread2 = threading.Thread(target=decrement)\n",
    "\n",
    "thread1.start()\n",
    "thread2.start()\n",
    "\n",
    "thread1.join()\n",
    "thread2.join()\n",
    "\n",
    "print(\"Counter value:\", counter)\n"
   ]
  },
  {
   "cell_type": "code",
   "execution_count": null,
   "id": "f43eaa7a-6536-4331-b495-cfd92c8c8821",
   "metadata": {},
   "outputs": [],
   "source": []
  }
 ],
 "metadata": {
  "kernelspec": {
   "display_name": "Python 3 (ipykernel)",
   "language": "python",
   "name": "python3"
  },
  "language_info": {
   "codemirror_mode": {
    "name": "ipython",
    "version": 3
   },
   "file_extension": ".py",
   "mimetype": "text/x-python",
   "name": "python",
   "nbconvert_exporter": "python",
   "pygments_lexer": "ipython3",
   "version": "3.12.0"
  }
 },
 "nbformat": 4,
 "nbformat_minor": 5
}
